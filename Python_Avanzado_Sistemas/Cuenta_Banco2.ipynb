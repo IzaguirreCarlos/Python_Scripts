{
 "cells": [
  {
   "cell_type": "markdown",
   "metadata": {},
   "source": [
    "\"\"\"\n",
    "CUENTA BANCARIA\n",
    "Crea una clase \"CuentaBancaria\" con atributos como número de cuenta y saldo.\n",
    "Implementa métodos para depositar y retirar dinero, y muestra el saldo actual.\"\"\""
   ]
  },
  {
   "cell_type": "code",
   "execution_count": null,
   "metadata": {},
   "outputs": [],
   "source": [
    "\n",
    "\n",
    "class CuentaBanco:\n",
    "    def __init__(self, num_cuenta, saldo):\n",
    "        self.num_cuenta = num_cuenta\n",
    "        self.saldo = saldo\n",
    "\n",
    "    def depositar(self, monto):\n",
    "        self.saldo += monto\n",
    "        print(f\"se Deposito: {monto} tienes un saldo de: {self.saldo} \")\n",
    "\n",
    "    def retirar(self, monto):\n",
    "        if self.saldo >= monto:\n",
    "            self.saldo -= monto\n",
    "            print(f\"Usted ha Retirado:   {monto} \\n Su Cuenta Esta con :  {self.saldo} \")\n",
    "        else:\n",
    "            print(\"! SALDO INSUFICIENTE !!\")\n",
    "\n",
    "\n",
    "cuenta_banco =CuentaBanco(\"123456\", saldo = 0)\n",
    "cuenta_banco.depositar(3475)\n",
    "cuenta_banco.retirar(1125)\n"
   ]
  },
  {
   "cell_type": "code",
   "execution_count": null,
   "metadata": {},
   "outputs": [],
   "source": []
  }
 ],
 "metadata": {
  "kernelspec": {
   "display_name": "Work",
   "language": "python",
   "name": "python3"
  },
  "language_info": {
   "codemirror_mode": {
    "name": "ipython",
    "version": 3
   },
   "file_extension": ".py",
   "mimetype": "text/x-python",
   "name": "python",
   "nbconvert_exporter": "python",
   "pygments_lexer": "ipython3",
   "version": "3.9.19"
  }
 },
 "nbformat": 4,
 "nbformat_minor": 2
}
