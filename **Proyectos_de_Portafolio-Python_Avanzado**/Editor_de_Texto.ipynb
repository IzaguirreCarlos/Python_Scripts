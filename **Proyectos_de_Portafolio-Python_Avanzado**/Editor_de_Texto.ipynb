{
 "cells": [
  {
   "cell_type": "markdown",
   "metadata": {},
   "source": [
    "4. Editor de Texto\n",
    "Crea una interfaz gráfica de usuario (GUI) para simular nuestro propio editor de texto. Este \n",
    "ejemplo también utiliza componentes estándar de GUI, incluyendo etiquetas, botones y \n",
    "campos de entrada.\n",
    "Puedes añadir la capacidad de abrir y guardar archivos, al igual que un editor de texto real.\n"
   ]
  },
  {
   "cell_type": "markdown",
   "metadata": {},
   "source": [
    "objetivo :  CREAR ,  LEER , MODIFICAR, , Y GUARDAR ARCHIVOS"
   ]
  },
  {
   "cell_type": "code",
   "execution_count": 2,
   "metadata": {},
   "outputs": [],
   "source": [
    "import tkinter as tk  # Importamos tkinter para crear la interfaz gráfica.\n",
    "from tkinter import filedialog  # Importamos filedialog para abrir y guardar archivos.\n",
    "from tkinter import messagebox  # Importamos messagebox para mostrar mensajes emergentes.\n",
    "\n",
    "# Crear la ventana principal del editor de texto.\n",
    "root = tk.Tk()\n",
    "root.title(\"Editor de Texto Personalizado\")  # Título de la ventana.\n",
    "root.geometry(\"800x600\")  # Tamaño de la ventana.\n",
    "\n",
    "# Función para crear un nuevo archivo.\n",
    "def crear_archivo():\n",
    "    respuesta = messagebox.askyesno(\"Nuevo Archivo\", \"¿Deseas crear un nuevo archivo? Se perderán los cambios no guardados.\")\n",
    "    if respuesta:\n",
    "        texto.delete(1.0, tk.END)  # Borra el contenido del área de texto.\n",
    "\n",
    "# Función para abrir un archivo.\n",
    "def abrir_archivo():\n",
    "    archivo = filedialog.askopenfilename(defaultextension=\".txt\", filetypes=[(\"Archivos de texto\", \"*.txt\"), (\"Todos los archivos\", \"*.*\")])\n",
    "    if archivo:\n",
    "        try:\n",
    "            with open(archivo, \"r\", encoding=\"utf-8\") as f:  # Abrimos el archivo en modo lectura.\n",
    "                contenido = f.read()  # Leemos el contenido del archivo.\n",
    "                texto.delete(1.0, tk.END)  # Borramos el contenido actual del área de texto.\n",
    "                texto.insert(tk.END, contenido)  # Insertamos el contenido del archivo en el área de texto.\n",
    "        except Exception as e:\n",
    "            messagebox.showerror(\"Error\", f\"No se pudo abrir el archivo: {e}\")  # Mostramos un error si ocurre.\n",
    "\n",
    "# Función para guardar el archivo.\n",
    "def guardar_archivo():\n",
    "    archivo = filedialog.asksaveasfilename(defaultextension=\".txt\", filetypes=[(\"Archivos de texto\", \"*.txt\"), (\"Todos los archivos\", \"*.*\")])\n",
    "    if archivo:\n",
    "        try:\n",
    "            with open(archivo, \"w\", encoding=\"utf-8\") as f:  # Abrimos el archivo en modo escritura.\n",
    "                contenido = texto.get(1.0, tk.END)  # Obtenemos el contenido del área de texto.\n",
    "                f.write(contenido.strip())  # Guardamos el contenido en el archivo.\n",
    "        except Exception as e:\n",
    "            messagebox.showerror(\"Error\", f\"No se pudo guardar el archivo: {e}\")  # Mostramos un error si ocurre.\n",
    "\n",
    "# Crear el área de texto.\n",
    "texto = tk.Text(root, wrap=\"word\", undo=True)  # Creamos un widget de texto con soporte para deshacer.\n",
    "texto.pack(expand=1, fill=\"both\")  # Expandimos el área de texto para llenar la ventana.\n",
    "\n",
    "# Crear la barra de menú.\n",
    "menu_bar = tk.Menu(root)\n",
    "root.config(menu=menu_bar)  # Configuramos la barra de menú en la ventana principal.\n",
    "\n",
    "# Crear el menú \"Archivo\".\n",
    "menu_archivo = tk.Menu(menu_bar, tearoff=0)\n",
    "menu_archivo.add_command(label=\"Nuevo\", command=crear_archivo)  # Añadimos la opción para crear un nuevo archivo.\n",
    "menu_archivo.add_command(label=\"Abrir\", command=abrir_archivo)  # Añadimos la opción para abrir archivos.\n",
    "menu_archivo.add_command(label=\"Guardar\", command=guardar_archivo)  # Añadimos la opción para guardar archivos.\n",
    "menu_archivo.add_separator()  # Añadimos un separador.\n",
    "menu_archivo.add_command(label=\"Salir\", command=root.quit)  # Opción para cerrar la aplicación.\n",
    "menu_bar.add_cascade(label=\"Archivo\", menu=menu_archivo)  # Añadimos el menú \"Archivo\" a la barra de menú.\n",
    "\n",
    "# Crear el menú \"Ayuda\".\n",
    "def mostrar_acerca_de():\n",
    "    messagebox.showinfo(\"Acerca de\", \"Editor de Texto Personalizado\\nCreado con Python y tkinter.\")\n",
    "\n",
    "menu_ayuda = tk.Menu(menu_bar, tearoff=0)\n",
    "menu_ayuda.add_command(label=\"Acerca de\", command=mostrar_acerca_de)  # Opción para mostrar información sobre la aplicación.\n",
    "menu_bar.add_cascade(label=\"Ayuda\", menu=menu_ayuda)  # Añadimos el menú \"Ayuda\" a la barra de menú.\n",
    "\n",
    "# Iniciar el bucle principal de la aplicación.\n",
    "root.mainloop()\n",
    "\n"
   ]
  }
 ],
 "metadata": {
  "kernelspec": {
   "display_name": "Work",
   "language": "python",
   "name": "python3"
  },
  "language_info": {
   "codemirror_mode": {
    "name": "ipython",
    "version": 3
   },
   "file_extension": ".py",
   "mimetype": "text/x-python",
   "name": "python",
   "nbconvert_exporter": "python",
   "pygments_lexer": "ipython3",
   "version": "3.9.19"
  }
 },
 "nbformat": 4,
 "nbformat_minor": 2
}
