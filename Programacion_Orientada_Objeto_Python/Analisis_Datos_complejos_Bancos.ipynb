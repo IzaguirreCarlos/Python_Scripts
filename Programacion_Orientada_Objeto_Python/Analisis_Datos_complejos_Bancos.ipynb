{
 "cells": [
  {
   "cell_type": "markdown",
   "metadata": {},
   "source": [
    "DETECCION DEL PERIODO DE MAYOR RENTABILIDAD BANCO:\n",
    "\n",
    "Descripcion: Dado un arreglo que representa las ganancias diarias de un banco en un periodo \n",
    "determinado , encuentra el Subarreglo contiguo con la mayor suma de Ganancias.\n",
    "\n",
    "\"\"\" Objetvo : Identificar los periodos mas rentables  para optimizar  estrategias de Invercion \"\"\""
   ]
  },
  {
   "cell_type": "code",
   "execution_count": 1,
   "metadata": {},
   "outputs": [
    {
     "name": "stdout",
     "output_type": "stream",
     "text": [
      "Arreglo con mayor Rentabilidad:  ([100, -50, 200, -150, 300, -100, 400], 700)\n",
      "Suma Maxima: ([100, -50, 200, -150, 300, -100, 400], 700)\n"
     ]
    }
   ],
   "source": [
    "def max_suma_arreglo(ganancias):\n",
    "    max_actual = ganancias[0]\n",
    "    max_global = ganancias[0]\n",
    "    inicio = fin = tem_inicio = 0\n",
    "\n",
    "    for i in range(1, len(ganancias)):\n",
    "        if ganancias[i] > max_actual + ganancias[i]:\n",
    "            max_actual = ganancias[i]\n",
    "            tem_inicio = i\n",
    "        else:\n",
    "            max_actual += ganancias[i]\n",
    "\n",
    "        if  max_actual > max_global:\n",
    "            max_global = max_actual\n",
    "            inicio = tem_inicio\n",
    "            fin = i\n",
    "\n",
    "    return ganancias[inicio:fin + 1], max_global\n",
    "\n",
    "# ejemplo de uso\n",
    "ganancias = [100, -50, 200, -150, 300, -100, 400]\n",
    "subarreglo = suma_maxima = max_suma_arreglo(ganancias)\n",
    "print(\"Arreglo con mayor Rentabilidad: \",subarreglo)\n",
    "print(\"Suma Maxima:\",suma_maxima)"
   ]
  },
  {
   "cell_type": "markdown",
   "metadata": {},
   "source": [
    "DETECCION DD FRAUDES MEDIANTE TRANSACCIONES CONTINUAS:\n",
    "\n",
    "DESCRIPCION: Un Sistema de monitoreo   financiero Detecta Fraudes Buscando Subarreglos.\n",
    "             En una Lista de Transacciones diarias  cuyo valor Total excede un \n",
    "             umbral especifico\n",
    "\n",
    "Objetivo : Alertar sobre Actividad Sospechoza\n"
   ]
  },
  {
   "cell_type": "markdown",
   "metadata": {},
   "source": [
    "OPTIMIZACION DE CARGA DE CAJEROS AUTOMATICOS:\n",
    "\n",
    "Descripcion : Un banco nesecita optimizar la Carga  de sus cajeros automaticos\n",
    "              . Se tiene una lista que representa la demanda diaria de Efectivo\n",
    "              en una Sucursal . El Banco quiere Identificar el Subarreglo de Tamano Fijo\n",
    "              (EJEMPLO) 7 Dias . Con la Mayor Demanda Promedio para priorizar su Reabastecimiento.\n",
    "\n",
    "Ejemplo : [5000, 7000, 8000, 6000, 9000, 7500, 8500, 9500, 6500]\n",
    "\n",
    "OBJETIVON: *Optimizar la Logistica de Carga de Cajeros Automaticos\n",
    "           Minimizando Riesgos de Falta de Efectivo"
   ]
  },
  {
   "cell_type": "markdown",
   "metadata": {},
   "source": []
  }
 ],
 "metadata": {
  "kernelspec": {
   "display_name": "Work",
   "language": "python",
   "name": "python3"
  },
  "language_info": {
   "codemirror_mode": {
    "name": "ipython",
    "version": 3
   },
   "file_extension": ".py",
   "mimetype": "text/x-python",
   "name": "python",
   "nbconvert_exporter": "python",
   "pygments_lexer": "ipython3",
   "version": "3.9.19"
  }
 },
 "nbformat": 4,
 "nbformat_minor": 2
}
