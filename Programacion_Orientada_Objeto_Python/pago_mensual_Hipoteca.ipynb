{
 "cells": [
  {
   "cell_type": "markdown",
   "metadata": {},
   "source": [
    "    Ejercicio . CALCULAR  EL PAGO MENSUAL DE UNA HIPOTECA BASADO EN EL PUNTAJE DE CREDITO.\n",
    "\n",
    "    NOTA : En este ejercio el Usuario , Ingresara su Puntaje de credito. Junto con los Detalles\n",
    "           del prestamo . Dependiendo del puntaje . Se le Asignara una Tasa de Interes Anual. \n",
    "           Luego  se Calculara  el Pago Mensual  de la Hipoteca  Utilizando esa tasa.\n",
    "\n",
    "   INSTRUCCIONES :   1. SOLICITA AL USUARIO LOS SIGUIENTES DATOS\n",
    "\n",
    "                     * Monto del Prestamo\n",
    "                     * Puntaje de Credito ( Un Valor entre 300  Y 850).\n",
    "                     * Plazo del Prestamo (En Años).\n",
    "\n",
    "                     2. DETERMINA LA TASA DE INTERES ANUAL.( basada en el Puntaje de Credito ):\n",
    "\n",
    "                     * Puntaje de Credito 750-850: Tasa de Interes Anualndel 3%. \n",
    "                     * Puntaje de Credito 700-750: Tasa de Interes Anualndel 4%.\n",
    "                     * Puntaje de Credito 650-700: Tasa de Interes Anualndel 5%.\n",
    "                     * Puntaje de Credito 600-650: Tasa de Interes Anualndel 6%.\n",
    "\n",
    "                     * Puntaje Menor de 600 Tasa de Interes Anual del 8%.\n",
    "\n",
    "                     3. CALCULAR EL PAGO MENSUAL\n",
    "\n",
    "OBJETIVO :  En este Ejercicio te permitira Practicar :\n",
    "* CONDICIONALES: para asignar la tasa de interes basada en el Credito\n",
    "* CALCULOS MATEMATICOS: Aplicacion de Formulas\n",
    "* ENTRADAS Y SALIDAS DE DATOS.\n",
    "\n"
   ]
  },
  {
   "cell_type": "code",
   "execution_count": 1,
   "metadata": {},
   "outputs": [
    {
     "name": "stdout",
     "output_type": "stream",
     "text": [
      "Basado En Su Puntaje De Crédto, La Taza De Interes Anual Es:3.0%\n",
      "El Pago Mensual Es 843.21\n"
     ]
    }
   ],
   "source": [
    "def calcular_pago_mensual(principal, interes_anual, años):\n",
    "         # Convertir interes anual a interes Mensual\n",
    "         interes_mensual = interes_anual / 12 / 100\n",
    "         # NUMERO TOTAL DE PAGOS\n",
    "         n = años * 12\n",
    "         # FORMULA PARA EL PAGO MENSUAL\n",
    "         pago_mensual = (principal * interes_mensual) / (1 - (1 + interes_mensual) ** -n)\n",
    "         return pago_mensual\n",
    "                 \n",
    "\n",
    "def interes_por_puntaje_credito(puntaje_credito):\n",
    "\n",
    "         if puntaje_credito >= 750:\n",
    "              return 3.0\n",
    "         if puntaje_credito >= 700:\n",
    "              return 4.0\n",
    "         if puntaje_credito >= 650:\n",
    "              return 5.0\n",
    "         if puntaje_credito >= 600:\n",
    "              return 6.0\n",
    "         else:\n",
    "             puntaje_credito >= 300\n",
    "             return 8.0\n",
    "         \n",
    " \n",
    "# SOLICITAR DATOS AL USUARIO DEL PRESTAMO\n",
    "monto_prestamo = float(input(\"Ingrese El Monto Del Prestamo:_\"))\n",
    "Puntaje_credito = int(input(\"Ingrese Su Puntaje De Credito_(300-850):\"))\n",
    "años_prestamo = int(input(\"Ingrese El Plazo Del Prestamo:_\"))\n",
    "\n",
    "#  OBTENER LA TAZA DE INTERES BASADA EN EL PUNTAJE DE CREDITO\n",
    "interes_anual = interes_por_puntaje_credito(Puntaje_credito)\n",
    "print(f\"Basado En Su Puntaje De Crédto, La Taza De Interes Anual Es:{interes_anual:.1f}%\")\n",
    "\n",
    "# CALCULAR PAGO MENSUAL\n",
    "pago_mensual = calcular_pago_mensual(monto_prestamo, interes_anual, años_prestamo)\n",
    "print(f\"El Pago Mensual Es {pago_mensual:.2f}\")\n",
    "\n",
    "\n",
    "\n",
    "\n",
    "         \n",
    "    \n",
    "         \n",
    "        \n",
    "\n",
    " "
   ]
  }
 ],
 "metadata": {
  "kernelspec": {
   "display_name": "Work",
   "language": "python",
   "name": "python3"
  },
  "language_info": {
   "codemirror_mode": {
    "name": "ipython",
    "version": 3
   },
   "file_extension": ".py",
   "mimetype": "text/x-python",
   "name": "python",
   "nbconvert_exporter": "python",
   "pygments_lexer": "ipython3",
   "version": "3.9.19"
  }
 },
 "nbformat": 4,
 "nbformat_minor": 2
}
