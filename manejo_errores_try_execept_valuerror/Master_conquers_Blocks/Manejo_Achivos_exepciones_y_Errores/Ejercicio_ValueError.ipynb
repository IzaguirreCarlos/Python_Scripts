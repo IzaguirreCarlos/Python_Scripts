{
 "cells": [
  {
   "cell_type": "markdown",
   "metadata": {},
   "source": [
    "SUMA Y VALUEERROR \n",
    "Un problema común al solicitar una entrada numérica ocurre cuando las \n",
    "personas ingresan texto en lugar de números. Cuando intentas convertir la \n",
    "entrada a un entero (int), obtendrás un ValueError. Escribe un programa que \n",
    "solicite dos números. Suma los números y muestra el resultado. Captura el \n",
    "ValueError si alguno de los valores de entrada no es un número e imprime un \n",
    "mensaje de error amigable. Prueba tu programa ingresando dos números y \n",
    "luego ingresando texto en lugar de un número. Envuelve tu código del en un \n",
    "bucle while para que el usuario pueda continuar ingresando números incluso \n",
    "si comete un error ingresando texto en lugar de un número."
   ]
  },
  {
   "cell_type": "code",
   "execution_count": 4,
   "metadata": {},
   "outputs": [
    {
     "name": "stdout",
     "output_type": "stream",
     "text": [
      "! Error ! Lo sentimos Ingrese solo Numeros Enteros !\n",
      "Resultado de la Suma es  11\n"
     ]
    }
   ],
   "source": [
    "while True:\n",
    "    try:\n",
    "       num1 = int(input(\"!Ingrese el primer numero:\"))\n",
    "       num2 = int(input(\"!Ingrese el segundo numero:\"))\n",
    "       resultado = num1 + num2\n",
    "       print(\"Resultado de la Suma es \",resultado,)\n",
    "       break\n",
    "\n",
    "    except ValueError:\n",
    "        print(\"! Error ! Lo sentimos Ingrese solo Numeros Enteros !\")"
   ]
  }
 ],
 "metadata": {
  "kernelspec": {
   "display_name": "Work",
   "language": "python",
   "name": "python3"
  },
  "language_info": {
   "codemirror_mode": {
    "name": "ipython",
    "version": 3
   },
   "file_extension": ".py",
   "mimetype": "text/x-python",
   "name": "python",
   "nbconvert_exporter": "python",
   "pygments_lexer": "ipython3",
   "version": "3.9.19"
  }
 },
 "nbformat": 4,
 "nbformat_minor": 2
}
