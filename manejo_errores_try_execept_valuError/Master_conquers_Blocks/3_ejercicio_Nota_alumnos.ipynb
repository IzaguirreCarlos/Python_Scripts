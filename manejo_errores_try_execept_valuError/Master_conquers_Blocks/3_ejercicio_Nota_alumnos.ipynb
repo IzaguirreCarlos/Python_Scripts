{
 "cells": [
  {
   "cell_type": "markdown",
   "metadata": {},
   "source": [
    "                  3 Prueba de nota Media de Alumnos"
   ]
  },
  {
   "cell_type": "code",
   "execution_count": 6,
   "metadata": {},
   "outputs": [
    {
     "name": "stdout",
     "output_type": "stream",
     "text": [
      "La Nota Media De Estudiante 1 ES: 7.599999999999999\n",
      "La Nota Media De Estudiante 2 ES: 7.799999999999999\n",
      "La Nota Media De Estudiante 3 ES: 7.799999999999999\n",
      "La Nota Media De Estudiante 4 ES: 8.799999999999999\n"
     ]
    }
   ],
   "source": [
    "# importar modulos\n",
    "import numpy as np\n",
    "# crear un arrays con las calificaciones de  los estudiantes--------------\n",
    "calificaciones = np.array([\n",
    "    [8, 7, 9, 10],\n",
    "    [6, 8, 7, 9],\n",
    "    [9, 9, 8, 8],\n",
    "    [7, 6, 6, 7],\n",
    "    [10, 9, 10, 10],\n",
    "    ])\n",
    "\n",
    "# crear arraays independientes de cada estudiantes\n",
    "examen1 = calificaciones[0]\n",
    "examen2 = calificaciones[1]\n",
    "trabajo_final = calificaciones[2]\n",
    "participacion = calificaciones[3]\n",
    "\n",
    "# ahora crear nota media \n",
    "nota_media = examen1 * 0.3 + examen2 * 0.3 + trabajo_final * 0.3 + participacion * 0.1\n",
    "\n",
    "# Mostrar el resultado final de la nota media de cada estudiante\n",
    "for i in range(len(nota_media)):\n",
    "    print(\"La Nota Media De Estudiante\",i+1,\"ES:\",nota_media[i])\n"
   ]
  }
 ],
 "metadata": {
  "kernelspec": {
   "display_name": "Work",
   "language": "python",
   "name": "python3"
  },
  "language_info": {
   "codemirror_mode": {
    "name": "ipython",
    "version": 3
   },
   "file_extension": ".py",
   "mimetype": "text/x-python",
   "name": "python",
   "nbconvert_exporter": "python",
   "pygments_lexer": "ipython3",
   "version": "3.9.19"
  }
 },
 "nbformat": 4,
 "nbformat_minor": 2
}
